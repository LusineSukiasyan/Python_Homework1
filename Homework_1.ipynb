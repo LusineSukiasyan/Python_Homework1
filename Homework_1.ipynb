{
 "cells": [
  {
   "cell_type": "markdown",
   "metadata": {},
   "source": [
    "# HOMEWORK 1\n"
   ]
  },
  {
   "cell_type": "markdown",
   "metadata": {},
   "source": [
    "# 1."
   ]
  },
  {
   "cell_type": "code",
   "execution_count": 2,
   "metadata": {},
   "outputs": [
    {
     "name": "stdout",
     "output_type": "stream",
     "text": [
      "0:00:00.002001\n"
     ]
    },
    {
     "data": {
      "text/plain": [
       "720"
      ]
     },
     "execution_count": 2,
     "metadata": {},
     "output_type": "execute_result"
    }
   ],
   "source": [
    "import datetime\n",
    "import time\n",
    "\n",
    "cache = {}\n",
    "def factorial(n):\n",
    "    assert type(n) == int\n",
    "    assert n >= 0   \n",
    "    if n in cache.keys():\n",
    "        return cache[n]\n",
    "    if n == 0:\n",
    "        return 1\n",
    "    result = n * factorial(n-1)\n",
    "    cache[n] = result\n",
    "    return result\n",
    "    \n",
    "before = datetime.datetime.now()\n",
    "s = factorial(1000)\n",
    "after = datetime.datetime.now()\n",
    "print(after -  before)\n",
    "\n",
    "factorial(6)"
   ]
  },
  {
   "cell_type": "markdown",
   "metadata": {},
   "source": [
    "# 2.\n"
   ]
  },
  {
   "cell_type": "code",
   "execution_count": 3,
   "metadata": {},
   "outputs": [
    {
     "data": {
      "text/plain": [
       "{'_hd': 4, 'attr1': 3, 'attr2': 18}"
      ]
     },
     "execution_count": 3,
     "metadata": {},
     "output_type": "execute_result"
    }
   ],
   "source": [
    "class X:\n",
    "    \n",
    "    def __init__(self):\n",
    "        pass\n",
    "    \n",
    "    def attr1(self):\n",
    "        a = 3\n",
    "        return a\n",
    "    \n",
    "    def attr2(self):\n",
    "        return 18\n",
    "    \n",
    "    def _hd(self):\n",
    "        return 4\n",
    "    \n",
    "\n",
    "    \n",
    "x = X()    \n",
    "  \n",
    "def func(x):\n",
    "    d = {}\n",
    "    for i in x.__class__.__dict__.keys():\n",
    "        if i[0] != '_' or i[1] != '_':\n",
    "            d[i] = x.__getattribute__(i)()\n",
    "    return d\n",
    "\n",
    "func(x)"
   ]
  },
  {
   "cell_type": "markdown",
   "metadata": {},
   "source": [
    "# 3."
   ]
  },
  {
   "cell_type": "code",
   "execution_count": 4,
   "metadata": {},
   "outputs": [
    {
     "name": "stdout",
     "output_type": "stream",
     "text": [
      "[[7. 4. 1.]\n",
      " [8. 5. 2.]\n",
      " [9. 6. 3.]]\n",
      "[[8. 1. 8. 4.]\n",
      " [5. 2. 6. 8.]\n",
      " [2. 5. 9. 9.]\n",
      " [6. 9. 3. 6.]]\n"
     ]
    }
   ],
   "source": [
    "import numpy as np\n",
    "\n",
    "class Rotation():\n",
    "    def __init__(self,angle):\n",
    "        self.angle = angle\n",
    "    \n",
    "    def __call__(self,matrix):\n",
    "        q = np.eye(matrix.shape[1])[::-1]\n",
    "        \n",
    "        if self.angle % 360 == 90:            \n",
    "            return matrix.T.dot(q)\n",
    "        \n",
    "        if self.angle % 360 == 180:\n",
    "            return (q.T.dot(matrix)).dot(q)\n",
    "        \n",
    "        if self.angle % 360 == 270:\n",
    "            return q.T.dot(matrix.T)\n",
    "        \n",
    "        if self.angle % 360 == 0:\n",
    "            return matrix\n",
    "            \n",
    "        \n",
    "        \n",
    "rot90 = Rotation(2250)\n",
    "M1 = np.array([[1,2,3],[4,5,6],[7,8,9]])\n",
    "M2 = np.array([[4,8,9,6],[8,6,9,3],[1,2,5,9],[8,5,2,6]])\n",
    "print(rot90(M1))\n",
    "print(rot90(M2))"
   ]
  },
  {
   "cell_type": "markdown",
   "metadata": {},
   "source": [
    "\n"
   ]
  },
  {
   "cell_type": "code",
   "execution_count": null,
   "metadata": {},
   "outputs": [],
   "source": []
  },
  {
   "cell_type": "code",
   "execution_count": null,
   "metadata": {},
   "outputs": [],
   "source": [
    "\n",
    "            \n",
    "            \n",
    "            "
   ]
  },
  {
   "cell_type": "markdown",
   "metadata": {},
   "source": [
    "# 4.\n"
   ]
  },
  {
   "cell_type": "code",
   "execution_count": 11,
   "metadata": {},
   "outputs": [
    {
     "name": "stdout",
     "output_type": "stream",
     "text": [
      "5 6\n",
      "5 6\n"
     ]
    }
   ],
   "source": [
    "def singleton(class_):\n",
    "    instances = {}\n",
    "    def getinstance(*args, **kwargs):\n",
    "        if class_ not in instances:\n",
    "            instances[class_] = class_(*args, **kwargs)\n",
    "        return instances[class_]\n",
    "    return getinstance\n",
    "\n",
    "@singleton\n",
    "class complex:\n",
    "    def __init__(self,real,imag):\n",
    "        self.r = real\n",
    "        self.i = imag\n",
    "        \n",
    "    \n",
    "a = complex(5,6)\n",
    "print(a.r,a.i)\n",
    "b = complex(7,8)\n",
    "print(b.r,b.i)"
   ]
  }
 ],
 "metadata": {
  "kernelspec": {
   "display_name": "Python 3",
   "language": "python",
   "name": "python3"
  },
  "language_info": {
   "codemirror_mode": {
    "name": "ipython",
    "version": 3
   },
   "file_extension": ".py",
   "mimetype": "text/x-python",
   "name": "python",
   "nbconvert_exporter": "python",
   "pygments_lexer": "ipython3",
   "version": "3.6.4"
  }
 },
 "nbformat": 4,
 "nbformat_minor": 2
}
